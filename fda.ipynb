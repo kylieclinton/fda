{
 "cells": [
  {
   "cell_type": "code",
   "execution_count": 1,
   "metadata": {},
   "outputs": [],
   "source": [
    "import pandas as pd\n",
    "import numpy as np\n",
    "import requests\n",
    "import json\n",
    "import matplotlib.pyplot as plt"
   ]
  },
  {
   "cell_type": "code",
   "execution_count": 10,
   "metadata": {},
   "outputs": [
    {
     "data": {
      "text/plain": [
       "200"
      ]
     },
     "execution_count": 10,
     "metadata": {},
     "output_type": "execute_result"
    }
   ],
   "source": [
    "# load the api key\n",
    "with open('apikey.txt') as f:\n",
    "    apikey = f.read()\n",
    "\n",
    "# get the data\n",
    "url = f'https://api.fda.gov/drug/event.json?api_key={apikey}'\n",
    "response = requests.get(url)\n",
    "data = response.json()\n",
    "\n",
    "#get a response code\n",
    "response.status_code\n"
   ]
  },
  {
   "cell_type": "code",
   "execution_count": 12,
   "metadata": {},
   "outputs": [
    {
     "data": {
      "text/plain": [
       "[{'safetyreportid': '5801206-7',\n",
       "  'transmissiondateformat': '102',\n",
       "  'transmissiondate': '20090109',\n",
       "  'serious': '1',\n",
       "  'seriousnessdeath': '1',\n",
       "  'receivedateformat': '102',\n",
       "  'receivedate': '20080707',\n",
       "  'receiptdateformat': '102',\n",
       "  'receiptdate': '20080625',\n",
       "  'fulfillexpeditecriteria': '1',\n",
       "  'companynumb': 'JACAN16471',\n",
       "  'primarysource': {'reportercountry': 'CANADA', 'qualification': '3'},\n",
       "  'sender': {'senderorganization': 'FDA-Public Use'},\n",
       "  'receiver': None,\n",
       "  'patient': {'patientonsetage': '26',\n",
       "   'patientonsetageunit': '801',\n",
       "   'patientsex': '1',\n",
       "   'patientdeath': {'patientdeathdateformat': None, 'patientdeathdate': None},\n",
       "   'reaction': [{'reactionmeddrapt': 'DRUG ADMINISTRATION ERROR'},\n",
       "    {'reactionmeddrapt': 'OVERDOSE'}],\n",
       "   'drug': [{'drugcharacterization': '1',\n",
       "     'medicinalproduct': 'DURAGESIC-100',\n",
       "     'drugauthorizationnumb': '019813',\n",
       "     'drugadministrationroute': '041',\n",
       "     'drugindication': 'DRUG ABUSE'}]}}]"
      ]
     },
     "execution_count": 12,
     "metadata": {},
     "output_type": "execute_result"
    }
   ],
   "source": [
    "data['results']"
   ]
  }
 ],
 "metadata": {
  "kernelspec": {
   "display_name": "Python 3",
   "language": "python",
   "name": "python3"
  },
  "language_info": {
   "codemirror_mode": {
    "name": "ipython",
    "version": 3
   },
   "file_extension": ".py",
   "mimetype": "text/x-python",
   "name": "python",
   "nbconvert_exporter": "python",
   "pygments_lexer": "ipython3",
   "version": "3.11.5"
  }
 },
 "nbformat": 4,
 "nbformat_minor": 2
}
