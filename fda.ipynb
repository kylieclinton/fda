{
 "cells": [
  {
   "cell_type": "code",
   "execution_count": 1,
   "metadata": {},
   "outputs": [],
   "source": [
    "import pandas as pd\n",
    "import numpy as np\n",
    "import requests\n",
    "import json\n",
    "import matplotlib.pyplot as plt"
   ]
  },
  {
   "cell_type": "code",
   "execution_count": 22,
   "metadata": {},
   "outputs": [
    {
     "data": {
      "text/plain": [
       "200"
      ]
     },
     "execution_count": 22,
     "metadata": {},
     "output_type": "execute_result"
    }
   ],
   "source": [
    "# load the api key\n",
    "with open('apikey.txt') as f:\n",
    "    apikey = f.read()\n",
    "\n",
    "# get the data\n",
    "url = f'https://api.fda.gov/drug/event.json?api_key={apikey}&limit=1000'\n",
    "response = requests.get(url)\n",
    "data = response.json()\n",
    "\n",
    "#get a response code\n",
    "response.status_code\n"
   ]
  },
  {
   "cell_type": "code",
   "execution_count": 23,
   "metadata": {},
   "outputs": [
    {
     "data": {
      "text/plain": [
       "Index(['safetyreportid', 'transmissiondateformat', 'transmissiondate',\n",
       "       'serious', 'seriousnessdeath', 'receivedateformat', 'receivedate',\n",
       "       'receiptdateformat', 'receiptdate', 'fulfillexpeditecriteria',\n",
       "       'companynumb', 'primarysource', 'sender', 'receiver', 'patient',\n",
       "       'safetyreportversion', 'primarysourcecountry', 'reporttype',\n",
       "       'seriousnessdisabling', 'duplicate', 'reportduplicate',\n",
       "       'seriousnessother', 'occurcountry', 'seriousnesshospitalization',\n",
       "       'seriousnesslifethreatening', 'seriousnesscongenitalanomali'],\n",
       "      dtype='object')"
      ]
     },
     "execution_count": 23,
     "metadata": {},
     "output_type": "execute_result"
    }
   ],
   "source": [
    "#transform the data to a dataframe\n",
    "df = pd.DataFrame(data['results'])\n",
    "df.columns"
   ]
  }
 ],
 "metadata": {
  "kernelspec": {
   "display_name": "Python 3",
   "language": "python",
   "name": "python3"
  },
  "language_info": {
   "codemirror_mode": {
    "name": "ipython",
    "version": 3
   },
   "file_extension": ".py",
   "mimetype": "text/x-python",
   "name": "python",
   "nbconvert_exporter": "python",
   "pygments_lexer": "ipython3",
   "version": "3.11.5"
  }
 },
 "nbformat": 4,
 "nbformat_minor": 2
}
